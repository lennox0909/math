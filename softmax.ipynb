{
 "cells": [
  {
   "cell_type": "markdown",
   "metadata": {},
   "source": [
    "# Softmax\n",
    "\n",
    "softmax函式將任意n維的實值向量轉換為取值範圍在(0,1)之間的n維實值向量，並且總和為1。\n",
    "\n",
    "例如：向量softmax([1.0, 2.0, 3.0]) ——> [0.09003057, 0.24472847, 0.66524096]\n",
    "\n",
    "性質：\n",
    "\n",
    "因為softmax是單調遞增函式，因此不改變原始資料的大小順序。\n",
    "將原始輸入對映到(0,1)區間，並且總和為1，常用於表徵概率。\n",
    "softmax(x) = softmax(x c), 這個性質用於保證數值的穩定性。"
   ]
  },
  {
   "cell_type": "code",
   "execution_count": 1,
   "metadata": {},
   "outputs": [],
   "source": [
    "import warnings\n",
    "warnings.filterwarnings('ignore')"
   ]
  },
  {
   "cell_type": "code",
   "execution_count": 11,
   "metadata": {},
   "outputs": [],
   "source": [
    "'''Compute the softmax of vector x.'''\n",
    "import numpy as np\n",
    "def softmax_(x):\n",
    "    exp_x = np.exp(x)\n",
    "    softmax_x = exp_x / np.sum(exp_x)\n",
    "    return softmax_x "
   ]
  },
  {
   "cell_type": "code",
   "execution_count": 12,
   "metadata": {},
   "outputs": [
    {
     "data": {
      "text/plain": [
       "array([0.09003057, 0.24472847, 0.66524096])"
      ]
     },
     "execution_count": 12,
     "metadata": {},
     "output_type": "execute_result"
    }
   ],
   "source": [
    "softmax_([1, 2, 3])"
   ]
  },
  {
   "cell_type": "markdown",
   "metadata": {},
   "source": [
    "由於numpy中的浮點型數值範圍限制所導致的。\n",
    "\n",
    "當輸入一個較大的數值時，sofmax函式將會超出限制，導致出錯。"
   ]
  },
  {
   "cell_type": "code",
   "execution_count": 13,
   "metadata": {},
   "outputs": [
    {
     "data": {
      "text/plain": [
       "array([nan, nan, nan])"
      ]
     },
     "execution_count": 13,
     "metadata": {},
     "output_type": "execute_result"
    }
   ],
   "source": [
    "softmax_([1000, 2000, 3000])"
   ]
  },
  {
   "cell_type": "markdown",
   "metadata": {},
   "source": [
    "為了解決這一問題，這時我們就能用到sofmax的第三個性質，即：softmax(x) = softmax(x c)，\n",
    "\n",
    "一般在實際運用中，通常設定c = – max(x)。\n",
    "\n",
    "接下來，我們重新定義softmax函式："
   ]
  },
  {
   "cell_type": "code",
   "execution_count": 6,
   "metadata": {},
   "outputs": [],
   "source": [
    "'''Compute the softmax in a numerically stable way.'''\n",
    "import numpy as np\n",
    "def softmax(x):\n",
    "    x = x - np.max(x)\n",
    "    exp_x = np.exp(x)\n",
    "    softmax_x = exp_x / np.sum(exp_x)\n",
    "    return softmax_x"
   ]
  },
  {
   "cell_type": "code",
   "execution_count": 8,
   "metadata": {},
   "outputs": [
    {
     "data": {
      "text/plain": [
       "array([0., 0., 1.])"
      ]
     },
     "execution_count": 8,
     "metadata": {},
     "output_type": "execute_result"
    }
   ],
   "source": [
    "softmax([1000, 2000, 3000])"
   ]
  },
  {
   "cell_type": "markdown",
   "metadata": {},
   "source": [
    "下面提供了基於向量以及矩陣的softmax實現"
   ]
  },
  {
   "cell_type": "code",
   "execution_count": 21,
   "metadata": {},
   "outputs": [],
   "source": [
    "import numpy as np\n",
    "def softmax(x):\n",
    "    \"\"\"\n",
    "    Compute the softmax function for each row of the input x.\n",
    "    Arguments:\n",
    "    x -- A N dimensional vector or M x N dimensional numpy matrix.\n",
    "    Return:\n",
    "    x -- You are allowed to modify x in-place\n",
    "    \"\"\"\n",
    "    orig_shape = x.shape\n",
    "    if len(x.shape) > 1:\n",
    "        # Matrix\n",
    "        exp_minmax = lambda x: np.exp(x - np.max(x))\n",
    "        denom = lambda x: 1.0 / np.sum(x)\n",
    "        x = np.apply_along_axis(exp_minmax,1,x)\n",
    "        denominator = np.apply_along_axis(denom,1,x) \n",
    "        if len(denominator.shape) == 1:\n",
    "            denominator = denominator.reshape((denominator.shape[0],1))\n",
    "            x = x * denominator\n",
    "        else:\n",
    "            # Vector\n",
    "            x_max = np.max(x)\n",
    "            x = x - x_max\n",
    "            numerator = np.exp(x)\n",
    "            denominator =  1.0 / np.sum(numerator)\n",
    "            x = numerator.dot(denominator)\n",
    "    assert x.shape == orig_shape\n",
    "    return x"
   ]
  },
  {
   "cell_type": "code",
   "execution_count": 42,
   "metadata": {},
   "outputs": [
    {
     "name": "stdout",
     "output_type": "stream",
     "text": [
      "(2, 3)\n",
      "[[0. 0. 1.]\n",
      " [0. 0. 1.]]\n",
      "[[0.09003057 0.24472847 0.66524096]\n",
      " [0.09003057 0.24472847 0.66524096]]\n"
     ]
    }
   ],
   "source": [
    "a = np.array([[1000, 2000, 3000],[1000, 2000, 3000]])\n",
    "b = np.array([[1, 2, 3],[1, 2, 3]])\n",
    "print(a.shape)\n",
    "print(softmax(a))\n",
    "print(softmax(b))"
   ]
  },
  {
   "cell_type": "markdown",
   "metadata": {},
   "source": [
    "以下試算"
   ]
  },
  {
   "cell_type": "code",
   "execution_count": 39,
   "metadata": {},
   "outputs": [
    {
     "name": "stdout",
     "output_type": "stream",
     "text": [
      "[0. 0. 1.]\n",
      "[0.001      0.0005     0.00033333]\n"
     ]
    }
   ],
   "source": [
    "b = np.array([1000, 2000, 3000])\n",
    "c = b - np.max(b) # array([-2000, -1000,     0])\n",
    "exp_minmax_ = np.exp(c) # array([0., 0., 1.])\n",
    "print(exp_minmax_)\n",
    "denom_ = 1.0 / b # array([0.001, 0.0005, 0.00033333])\n",
    "print(denom_)"
   ]
  },
  {
   "cell_type": "code",
   "execution_count": 35,
   "metadata": {},
   "outputs": [
    {
     "name": "stdout",
     "output_type": "stream",
     "text": [
      "[[0. 0. 1.]\n",
      " [0. 0. 1.]]\n",
      "[1. 1.]\n"
     ]
    }
   ],
   "source": [
    "x = np.array([[1000, 2000, 3000],[1000, 2000, 3000]])\n",
    "exp_minmax = lambda x: np.exp(x - np.max(x))\n",
    "denom = lambda x: 1.0 / np.sum(x)\n",
    "x = np.apply_along_axis(exp_minmax,1,x)\n",
    "print(x)\n",
    "denominator = np.apply_along_axis(denom,1,x) \n",
    "print(denominator)"
   ]
  },
  {
   "cell_type": "code",
   "execution_count": null,
   "metadata": {},
   "outputs": [],
   "source": []
  }
 ],
 "metadata": {
  "kernelspec": {
   "display_name": "Python 3",
   "language": "python",
   "name": "python3"
  },
  "language_info": {
   "codemirror_mode": {
    "name": "ipython",
    "version": 3
   },
   "file_extension": ".py",
   "mimetype": "text/x-python",
   "name": "python",
   "nbconvert_exporter": "python",
   "pygments_lexer": "ipython3",
   "version": "3.6.8"
  }
 },
 "nbformat": 4,
 "nbformat_minor": 2
}
